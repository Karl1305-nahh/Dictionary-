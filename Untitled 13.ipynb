{
 "cells": [
  {
   "cell_type": "code",
   "execution_count": 3,
   "metadata": {},
   "outputs": [
    {
     "name": "stdin",
     "output_type": "stream",
     "text": [
      "Tara na bes:  Tara na bes\n"
     ]
    },
    {
     "name": "stdout",
     "output_type": "stream",
     "text": [
      "FOURTH GEN COMPUTER.\n"
     ]
    }
   ],
   "source": [
    "DATA = {\n",
    "    \"ABACUS\": \"THE FIRST COMPUTER\",\n",
    "    \"NAPIER'S BONES\": \"INVENTED BY JOHN NAPIER\",\n",
    "    \"PASCALINE\": \"INVENTED BY BLAISE PASCAL\",\n",
    "    \"LEIBNIZ WHEEL\": \"INVENTED BY WILLHELM LEIBNIZ\",\n",
    "    \"ANALYTICAL ENGINE\": \"INVENTED BY CHARLES BABBAGE\",\n",
    "    \"TABULATING MACHINE\": \"INVENTED BY HERMANN HOLLERITH\",\n",
    "    \"DIFFERENTIAL ANALYZER\": \"INTRODUCED IN 1930\",\n",
    "    \"MARK I\": \"INVENTED IN 1944 BY HOWARD AIKEN\",\n",
    "    \"FIRST GEN COMPUTER\": \"INVENTED IN 1940-1956\",\n",
    "    \"SECOND GEN COMPUTER\": \"INVENTED IN 1957-1963\",\n",
    "    \"THIRD GENERATION COMPUTER\": \"HAS INTEGRATED CIRCUITS\",\n",
    "    \"FOURTH GEN COMPUTER\": \"INVENTED IN YEAR 1971-1980\",\n",
    "    \"DIGITAL COMPUTERS\": \"ELECTRONIC DEVICES\",\n",
    "    \"ANALOG COMPUTER\": \"USED TO PROCESS DATA\",\n",
    "    \"HDD\": \"HARD DISK DRIVE\",\n",
    "    \"FIRST GENERATION\": \"EDVAC\",\n",
    "    \"PASCALINE\": \"ADDING MACHINE\",\n",
    "    \"NAPIER'S BONES\": \"USED IVORY STRIPS TO CALCULATE\",\n",
    "    \"MARK 1\": \"FIRST PROGRAMMABLE COMPUTER\",\n",
    "    \"SECOND GENERATION COMPUTER EXAMPLE\": \"IBM 1620\",\n",
    "    \"THIRD GENERATION COMPUTER EXAMPLE\": \"IBM 360\",\n",
    "    \"FOURTH GENERATION COMPUTER EXAMPLE\": \"STAR 100\",\n",
    "    \"THIRD GENERATION\": \"IBM 360 SERIES\",\n",
    "    \"ANALYTICAL ENGINE\": \"USED PUNCH CARDS\",\n",
    "    \"DIFFERENTIAL ANALYZER\": \" FIRST ELECTRONIC COMPUTER\",\n",
    "}\n",
    "a = input(\"Tara na bes: \").strip().upper()\n",
    "\n",
    "if a in DATA:\n",
    "    print(DATA[a])\n",
    "else:\n",
    "    print(\"FOURTH GEN COMPUTER.\")"
   ]
  },
  {
   "cell_type": "code",
   "execution_count": null,
   "metadata": {},
   "outputs": [],
   "source": []
  }
 ],
 "metadata": {
  "kernelspec": {
   "display_name": "Python 3 (ipykernel)",
   "language": "python",
   "name": "python3"
  },
  "language_info": {
   "codemirror_mode": {
    "name": "ipython",
    "version": 3
   },
   "file_extension": ".py",
   "mimetype": "text/x-python",
   "name": "python",
   "nbconvert_exporter": "python",
   "pygments_lexer": "ipython3",
   "version": "3.11.0"
  }
 },
 "nbformat": 4,
 "nbformat_minor": 4
}
